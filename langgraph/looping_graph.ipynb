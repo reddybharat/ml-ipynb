{
 "cells": [
  {
   "cell_type": "code",
   "execution_count": 38,
   "id": "f605f039",
   "metadata": {},
   "outputs": [],
   "source": [
    "from typing import Dict, TypedDict, List\n",
    "from langgraph.graph import StateGraph, START, END\n",
    "import random"
   ]
  },
  {
   "cell_type": "code",
   "execution_count": 39,
   "id": "331b89c5",
   "metadata": {},
   "outputs": [],
   "source": [
    "class GameState(TypedDict):\n",
    "    player_name: str\n",
    "    target_number: int\n",
    "    guesses: List[int]\n",
    "    attempts: int\n",
    "    hint: str\n",
    "    lower_bound: int\n",
    "    upper_bound: int\n",
    "    max_attempts: int\n"
   ]
  },
  {
   "cell_type": "code",
   "execution_count": 40,
   "id": "2cd7b593",
   "metadata": {},
   "outputs": [],
   "source": [
    "def setup_node(state: GameState) -> GameState:\n",
    "    \"\"\"Initialize the game with a random target number\"\"\"\n",
    "    state['target_number'] = random.randint(1, 20)\n",
    "    state['guesses'] = []\n",
    "    state['attempts'] = 0\n",
    "    state['hint'] = \"Game started! Try to guess the number between 1 and 20.\"\n",
    "    state['lower_bound'] = 1\n",
    "    state['upper_bound'] = 20\n",
    "    state['max_attempts'] = 7\n",
    "    print(f\"Welcome {state['player_name']}, I have randomly selected a number between {state['lower_bound']} and {state['upper_bound']}.\")\n",
    "    return state"
   ]
  },
  {
   "cell_type": "code",
   "execution_count": 41,
   "id": "514ba0dd",
   "metadata": {},
   "outputs": [],
   "source": [
    "def guess_node(state: GameState) -> GameState:\n",
    "    \"\"\"Generate a smarter guess based on previous hints\"\"\"\n",
    "    \n",
    "    possible_guesses = [i for i in range(state[\"lower_bound\"], state[\"upper_bound\"] + 1) if i not in state[\"guesses\"]]\n",
    "    if possible_guesses:\n",
    "        guess = random.choice(possible_guesses)\n",
    "    else:\n",
    "        guess = random.randint(state[\"lower_bound\"], state[\"upper_bound\"])\n",
    "\n",
    "    state['guesses'].append(guess)\n",
    "    state['attempts'] += 1\n",
    "    print(f\"Attempt {state['attempts']} (Current range: {state['lower_bound']}-{state['upper_bound']}). I guess the number is {guess}. \")\n",
    "    return state"
   ]
  },
  {
   "cell_type": "code",
   "execution_count": 42,
   "id": "6a357bdf",
   "metadata": {},
   "outputs": [],
   "source": [
    "def hint_node(state: GameState) -> GameState:\n",
    "    \"\"\"Provide a hint based on the player's guess\"\"\"\n",
    "    if state['guesses']:\n",
    "        last_guess = state['guesses'][-1]\n",
    "        if last_guess < state['target_number']:\n",
    "            state['hint'] = \"Too low! Try a higher number.\"\n",
    "            state['lower_bound'] = max(state['lower_bound'], last_guess + 1)\n",
    "        elif last_guess > state['target_number']:\n",
    "            state['hint'] = \"Too high! Try a lower number.\"\n",
    "            state['upper_bound'] = min(state['upper_bound'], last_guess - 1)\n",
    "    else:\n",
    "        state['hint'] = \"Make your first guess!\"\n",
    "    \n",
    "    print(state['hint'])\n",
    "    return state"
   ]
  },
  {
   "cell_type": "code",
   "execution_count": 43,
   "id": "483a6836",
   "metadata": {},
   "outputs": [],
   "source": [
    "def should_continue(state: GameState) -> bool:\n",
    "    \"\"\"Determine if the game should continue\"\"\"\n",
    "    last_guess = state['guesses'][-1]\n",
    "    if state['target_number'] == last_guess:\n",
    "        print(\"YOU WIN! The number was:\", state['target_number'])\n",
    "        return False\n",
    "    elif state['attempts'] >= state['max_attempts']:\n",
    "        print(\"GAME OVER! The number was:\", state['target_number'])\n",
    "        return False\n",
    "    else:\n",
    "        print(f\"CONTINUING: {state['attempts']}/{state['max_attempts']} attempts used\")\n",
    "        return True"
   ]
  },
  {
   "cell_type": "code",
   "execution_count": 44,
   "id": "44dfca9d",
   "metadata": {},
   "outputs": [],
   "source": [
    "graph = StateGraph(GameState)\n",
    "\n",
    "graph.add_node(\"setup\", setup_node)\n",
    "graph.add_node(\"guesser\", guess_node)\n",
    "graph.add_node(\"helper\", hint_node)\n",
    "\n",
    "graph.add_edge(START, \"setup\")\n",
    "graph.add_edge(\"setup\", \"guesser\")\n",
    "graph.add_edge(\"guesser\", \"helper\")\n",
    "\n",
    "graph.add_conditional_edges(\n",
    "    \"helper\", \n",
    "    should_continue, \n",
    "    {\n",
    "        True: \"guesser\",\n",
    "        False: END\n",
    "    }\n",
    ")\n",
    "\n",
    "app = graph.compile()"
   ]
  },
  {
   "cell_type": "code",
   "execution_count": 45,
   "id": "3c1cc334",
   "metadata": {},
   "outputs": [
    {
     "data": {
      "image/png": "[encoded data removed]",
      "text/plain": [
       "<IPython.core.display.Image object>"
      ]
     },
     "metadata": {},
     "output_type": "display_data"
    }
   ],
   "source": [
    "from IPython.display import Image, display\n",
    "display(Image(app.get_graph().draw_mermaid_png()))"
   ]
  },
  {
   "cell_type": "code",
   "execution_count": 46,
   "id": "76062013",
   "metadata": {},
   "outputs": [
    {
     "name": "stdout",
     "output_type": "stream",
     "text": [
      "Welcome B, I have randomly selected a number between 1 and 20.\n",
      "Attempt 1 (Current range: 1-20). I guess the number is 4. \n",
      "Too low! Try a higher number.\n",
      "CONTINUING: 1/7 attempts used\n",
      "Attempt 2 (Current range: 5-20). I guess the number is 13. \n",
      "Too low! Try a higher number.\n",
      "CONTINUING: 2/7 attempts used\n",
      "Attempt 3 (Current range: 14-20). I guess the number is 20. \n",
      "Too high! Try a lower number.\n",
      "CONTINUING: 3/7 attempts used\n",
      "Attempt 4 (Current range: 14-19). I guess the number is 19. \n",
      "Too high! Try a lower number.\n",
      "CONTINUING: 4/7 attempts used\n",
      "Attempt 5 (Current range: 14-18). I guess the number is 15. \n",
      "Too high! Try a lower number.\n",
      "CONTINUING: 5/7 attempts used\n",
      "Attempt 6 (Current range: 14-14). I guess the number is 14. \n",
      "Too high! Try a lower number.\n",
      "YOU WIN! The number was: 14\n"
     ]
    }
   ],
   "source": [
    "result = app.invoke({\"player_name\": \"B\", \"guesses\": [], \"attempts\": 0, \"lower_bound\": 1, \"upper_bound\": 20})"
   ]
  },
  {
   "cell_type": "code",
   "execution_count": 47,
   "id": "fb5d6128",
   "metadata": {},
   "outputs": [
    {
     "data": {
      "text/plain": [
       "{'player_name': 'B',\n",
       " 'target_number': 14,\n",
       " 'guesses': [4, 13, 20, 19, 15, 14],\n",
       " 'attempts': 6,\n",
       " 'hint': 'Too high! Try a lower number.',\n",
       " 'lower_bound': 14,\n",
       " 'upper_bound': 14,\n",
       " 'max_attempts': 7}"
      ]
     },
     "execution_count": 47,
     "metadata": {},
     "output_type": "execute_result"
    }
   ],
   "source": [
    "result"
   ]
  }
 ],
 "metadata": {
  "kernelspec": {
   "display_name": "Python 3",
   "language": "python",
   "name": "python3"
  },
  "language_info": {
   "codemirror_mode": {
    "name": "ipython",
    "version": 3
   },
   "file_extension": ".py",
   "mimetype": "text/x-python",
   "name": "python",
   "nbconvert_exporter": "python",
   "pygments_lexer": "ipython3",
   "version": "3.12.3"
  }
 },
 "nbformat": 4,
 "nbformat_minor": 5
}
