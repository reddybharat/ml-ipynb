{
 "cells": [
  {
   "cell_type": "code",
   "execution_count": null,
   "id": "191626f6",
   "metadata": {},
   "outputs": [],
   "source": [
    "from typing import List, Dict, TypedDict, Any, Union\n",
    "from langgraph.graph import StateGraph, START, END"
   ]
  },
  {
   "cell_type": "code",
   "execution_count": 3,
   "id": "e61d9602",
   "metadata": {},
   "outputs": [],
   "source": [
    "class AgentState(TypedDict):\n",
    "    \"\"\"\n",
    "    Represents the state of the agent in the state graph.\n",
    "    \"\"\"\n",
    "    name: str\n",
    "    age: str\n",
    "    skills: List[str]\n",
    "    final: str"
   ]
  },
  {
   "cell_type": "code",
   "execution_count": 13,
   "id": "33f78462",
   "metadata": {},
   "outputs": [],
   "source": [
    "def get_name_node(state: AgentState) -> AgentState:\n",
    "    \"\"\"\n",
    "    Returns the state of the agent with the name node.\n",
    "    \"\"\"\n",
    "    state['final'] = f\"Hi, {state['name']}.\"\n",
    "    return state"
   ]
  },
  {
   "cell_type": "code",
   "execution_count": 14,
   "id": "52776800",
   "metadata": {},
   "outputs": [],
   "source": [
    "def get_age_node(state: AgentState) -> AgentState:\n",
    "    \"\"\"\n",
    "    Returns the state of the agent with the age node.\n",
    "    \"\"\"\n",
    "    state['final'] = f\"{state['final']} You are {state['age']} years old.\"\n",
    "    return state"
   ]
  },
  {
   "cell_type": "code",
   "execution_count": 15,
   "id": "c1cbb305",
   "metadata": {},
   "outputs": [],
   "source": [
    "def get_skills_node(state: AgentState) -> AgentState:\n",
    "    \"\"\"\n",
    "    Returns the state of the agent with the skills node.\n",
    "    \"\"\"\n",
    "    if state['skills']:\n",
    "        skills_str = ', '.join(state['skills'])\n",
    "        state['final'] = f\"{state['final']} You have skills in {skills_str}.\"\n",
    "    else:\n",
    "        state['final'] = f\"{state['final']} You have no skills listed.\"\n",
    "    return state"
   ]
  },
  {
   "cell_type": "code",
   "execution_count": 16,
   "id": "33b50c6f",
   "metadata": {},
   "outputs": [],
   "source": [
    "g = StateGraph(AgentState)\n",
    "\n",
    "g.add_node(\"get_name\", get_name_node)\n",
    "g.add_node(\"get_age\", get_age_node)\n",
    "g.add_node(\"get_skills\", get_skills_node)\n",
    "\n",
    "g.set_entry_point(\"get_name\")\n",
    "g.add_edge(\"get_name\", \"get_age\")\n",
    "g.add_edge(\"get_age\", \"get_skills\")\n",
    "g.set_finish_point(\"get_skills\")\n",
    "\n",
    "app = g.compile()"
   ]
  },
  {
   "cell_type": "code",
   "execution_count": 17,
   "id": "4463ae9c",
   "metadata": {},
   "outputs": [
    {
     "data": {
      "image/png": "[encoded data removed]",
      "text/plain": [
       "<IPython.core.display.Image object>"
      ]
     },
     "metadata": {},
     "output_type": "display_data"
    }
   ],
   "source": [
    "from IPython.display import display, Image\n",
    "display(Image(app.get_graph().draw_mermaid_png()))"
   ]
  },
  {
   "cell_type": "code",
   "execution_count": 18,
   "id": "d0d3bc9f",
   "metadata": {},
   "outputs": [],
   "source": [
    "result = app.invoke(\n",
    "    {\n",
    "        \"name\": \"Bharat\",\n",
    "        \"age\": \"27\",\n",
    "        \"skills\": [\"Python\", \"Generative AI\", \"LangGraph\"]\n",
    "    }\n",
    ")"
   ]
  },
  {
   "cell_type": "code",
   "execution_count": 19,
   "id": "599533da",
   "metadata": {},
   "outputs": [
    {
     "data": {
      "text/plain": [
       "{'name': 'Bharat',\n",
       " 'age': '27',\n",
       " 'skills': ['Python', 'Generative AI', 'LangGraph'],\n",
       " 'final': 'Hi, Bharat. You are 27 years old. You have skills in Python, Generative AI, LangGraph.'}"
      ]
     },
     "execution_count": 19,
     "metadata": {},
     "output_type": "execute_result"
    }
   ],
   "source": [
    "result"
   ]
  }
 ],
 "metadata": {
  "kernelspec": {
   "display_name": "Python 3",
   "language": "python",
   "name": "python3"
  },
  "language_info": {
   "codemirror_mode": {
    "name": "ipython",
    "version": 3
   },
   "file_extension": ".py",
   "mimetype": "text/x-python",
   "name": "python",
   "nbconvert_exporter": "python",
   "pygments_lexer": "ipython3",
   "version": "3.12.3"
  }
 },
 "nbformat": 4,
 "nbformat_minor": 5
}
